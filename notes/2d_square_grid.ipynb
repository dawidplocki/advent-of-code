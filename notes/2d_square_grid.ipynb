{
 "metadata": {
  "language_info": {
   "codemirror_mode": {
    "name": "ipython",
    "version": 3
   },
   "file_extension": ".py",
   "mimetype": "text/x-python",
   "name": "python",
   "nbconvert_exporter": "python",
   "pygments_lexer": "ipython3",
   "version": "3.8.5"
  },
  "orig_nbformat": 2,
  "kernelspec": {
   "name": "python385jvsc74a57bd031f2aee4e71d21fbe5cf8b01ff0e069b9275f58929596ceb00d14d90e3e16cd6",
   "display_name": "Python 3.8.5 64-bit"
  },
  "metadata": {
   "interpreter": {
    "hash": "31f2aee4e71d21fbe5cf8b01ff0e069b9275f58929596ceb00d14d90e3e16cd6"
   }
  }
 },
 "nbformat": 4,
 "nbformat_minor": 2,
 "cells": [
  {
   "source": [
    "# 2D square grid\n",
    "\n",
    "The flat grid where each field has four direct neighbours. Additionaly four border neighbours, which connect with the field just by corners.\n",
    "\n",
    "```\n",
    "                    x\n",
    "     |    1    |    2    |    3    |\n",
    "  ----------------------------------\n",
    "   1 | c (1,1) | d (2,1) | c (3,1) |\n",
    "  ----------------------------------\n",
    "y  2 | d (1,2) | p (2,2) | d (3,2) |\n",
    "  ----------------------------------\n",
    "   3 | c (1,3) | d (2,3) | c (3,3) |\n",
    "  ----------------------------------\n",
    "```\n",
    "\n",
    "The `p` means point, the `d` its border neighbours, `c` its just corners neighbours."
   ],
   "cell_type": "markdown",
   "metadata": {}
  },
  {
   "cell_type": "code",
   "execution_count": 1,
   "metadata": {},
   "outputs": [
    {
     "output_type": "stream",
     "name": "stdout",
     "text": [
      "Four neighbours: [(2, 1), (3, 2), (2, 3), (1, 2)]\nEight neighbours: [(2, 1), (3, 1), (3, 2), (3, 3), (2, 3), (1, 3), (1, 2), (1, 1)]\n"
     ]
    }
   ],
   "source": [
    "# Directions as consts\n",
    "NORTH, EAST, SOUTH, WEST = range(4)\n",
    "NORTH, NORTH_EAST, EAST, SOUTH_EAST, SOUTH, SOUTH_WEST, WEST, NORTH_WEST = range(8)\n",
    "\n",
    "\n",
    "def get_four_neighbours(x, y):\n",
    "    yield (x, y - 1) # NORTH\n",
    "    yield (x + 1, y) # EAST\n",
    "    yield (x, y + 1) # SOUTH\n",
    "    yield (x - 1, y) # WEST\n",
    "\n",
    "\n",
    "def get_eight_neighbours(x, y):\n",
    "    yield (x, y - 1)     # N\n",
    "    yield (x + 1, y - 1) # NE\n",
    "    yield (x + 1, y)     # E\n",
    "    yield (x + 1, y + 1) # SE\n",
    "    yield (x, y + 1)     # S\n",
    "    yield (x - 1, y + 1) # SW\n",
    "    yield (x - 1, y)     # W\n",
    "    yield (x - 1, y - 1) # NW\n",
    "\n",
    "\n",
    "print('Four neighbours:', list(get_four_neighbours(2, 2)))\n",
    "print('Eight neighbours:', list(get_eight_neighbours(2, 2)))"
   ]
  }
 ]
}