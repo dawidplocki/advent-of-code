{
 "metadata": {
  "language_info": {
   "codemirror_mode": {
    "name": "ipython",
    "version": 3
   },
   "file_extension": ".py",
   "mimetype": "text/x-python",
   "name": "python",
   "nbconvert_exporter": "python",
   "pygments_lexer": "ipython3",
   "version": "3.8.5"
  },
  "orig_nbformat": 2,
  "kernelspec": {
   "name": "python385jvsc74a57bd031f2aee4e71d21fbe5cf8b01ff0e069b9275f58929596ceb00d14d90e3e16cd6",
   "display_name": "Python 3.8.5 64-bit"
  },
  "metadata": {
   "interpreter": {
    "hash": "31f2aee4e71d21fbe5cf8b01ff0e069b9275f58929596ceb00d14d90e3e16cd6"
   }
  }
 },
 "nbformat": 4,
 "nbformat_minor": 2,
 "cells": [
  {
   "source": [
    "# Sets\n",
    "\n",
    "A Set is an unordered collection data type that is iterable, mutable and has no duplicate elements. Python’s set class represents the mathematical notion of a set.\n",
    "\n",
    "**Advantages**:\n",
    " \n",
    "* Sets are fast for checking if an element is in the set\n",
    "\n",
    "**Disadvantages**:\n",
    "\n",
    "* They don't keep order of elements\n",
    "\n",
    "## Creating"
   ],
   "cell_type": "markdown",
   "metadata": {}
  },
  {
   "source": [
    "def g(): yield from 'abc'\n",
    "\n",
    "print('Empty set')\n",
    "empty_set = set()\n",
    "print(empty_set, type(empty_set))\n",
    "\n",
    "print('\\nSet from list')\n",
    "set_from_iteration = set(['a', 'b', 'c'])\n",
    "print(set_from_iteration, type(set_from_iteration))\n",
    "\n",
    "print('\\nSet by simplified syntax')\n",
    "set_from_syntax = {'a', 'b', 'c'}\n",
    "print(set_from_syntax, type(set_from_syntax))\n",
    "\n",
    "print('\\nSet from generator')\n",
    "set_from_generator = set(g())\n",
    "print(set_from_generator, type(set_from_generator))\n",
    "\n",
    "print('\\nSet comprehensions')\n",
    "set_comprehensions = {x for x in 'abc'}\n",
    "print(set_comprehensions, type(set_comprehensions))\n",
    "set_from_comprehension_and_generator = set(x for x in 'abc')\n",
    "print(set_from_comprehension_and_generator, type(set_from_comprehension_and_generator))"
   ],
   "cell_type": "code",
   "metadata": {},
   "execution_count": 27,
   "outputs": [
    {
     "output_type": "stream",
     "name": "stdout",
     "text": [
      "Empty set\nset() <class 'set'>\n\nSet from list\n{'c', 'b', 'a'} <class 'set'>\n\nSet by simplified syntax\n{'c', 'b', 'a'} <class 'set'>\n\nSet from generator\n{'c', 'b', 'a'} <class 'set'>\n\nSet comprehensions\n{'c', 'b', 'a'} <class 'set'>\n{'c', 'b', 'a'}\n"
     ]
    }
   ]
  },
  {
   "source": [],
   "cell_type": "code",
   "metadata": {},
   "execution_count": null,
   "outputs": []
  },
  {
   "cell_type": "code",
   "execution_count": 28,
   "metadata": {},
   "outputs": [
    {
     "output_type": "stream",
     "name": "stdout",
     "text": [
      "unique letters in a {'a', 'd', 'c', 'b', 'r'}\nletters in a but not in b {'b', 'd', 'r'}\nletters in a or b or both {'z', 'a', 'm', 'd', 'c', 'l', 'b', 'r'}\nletters in both a and b {'c', 'a'}\nletters in a or b but not both {'z', 'm', 'd', 'l', 'b', 'r'}\n"
     ]
    }
   ],
   "source": [
    "a = set('abracadabra')\n",
    "b = set('alacazam')\n",
    "\n",
    "print('unique letters in a', a)\n",
    "print('letters in a but not in b', a - b)\n",
    "print('letters in a or b or both', a | b)\n",
    "print('letters in both a and b', a & b)\n",
    "print('letters in a or b but not both', a ^ b)"
   ]
  },
  {
   "source": [
    "## Links\n",
    "\n",
    "* [Python 3 Data Structures, Sets](https://docs.python.org/3/tutorial/datastructures.html#sets)\n",
    "* [Real Python](https://realpython.com/python-sets/)\n"
   ],
   "cell_type": "markdown",
   "metadata": {}
  }
 ]
}