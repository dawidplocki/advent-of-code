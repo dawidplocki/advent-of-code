{
 "metadata": {
  "language_info": {
   "codemirror_mode": {
    "name": "ipython",
    "version": 3
   },
   "file_extension": ".py",
   "mimetype": "text/x-python",
   "name": "python",
   "nbconvert_exporter": "python",
   "pygments_lexer": "ipython3",
   "version": "3.8.5"
  },
  "orig_nbformat": 2,
  "kernelspec": {
   "name": "python385jvsc74a57bd031f2aee4e71d21fbe5cf8b01ff0e069b9275f58929596ceb00d14d90e3e16cd6",
   "display_name": "Python 3.8.5 64-bit"
  },
  "metadata": {
   "interpreter": {
    "hash": "31f2aee4e71d21fbe5cf8b01ff0e069b9275f58929596ceb00d14d90e3e16cd6"
   }
  }
 },
 "nbformat": 4,
 "nbformat_minor": 2,
 "cells": [
  {
   "source": [
    "# Sets\n",
    "\n",
    "A Set is an unordered collection data type that is iterable, mutable and has no duplicate elements. Python’s set class represents the mathematical notion of a set.\n",
    "\n",
    "**Advantages**:\n",
    " \n",
    "* Sets are fast for checking if an element is in the set\n",
    "\n",
    "**Disadvantages**:\n",
    "\n",
    "* They don't keep order of elements\n",
    "\n",
    "## Creating\n",
    "\n",
    "The ways how we can create `set` class object."
   ],
   "cell_type": "markdown",
   "metadata": {}
  },
  {
   "source": [
    "def g(): yield from 'abc'\n",
    "\n",
    "print('Empty set')\n",
    "empty_set = set()\n",
    "print(empty_set, type(empty_set))\n",
    "\n",
    "print('\\nSet from list')\n",
    "set_from_iteration = set(['a', 'b', 'c'])\n",
    "print(set_from_iteration, type(set_from_iteration))\n",
    "\n",
    "print('\\nSet by simplified syntax')\n",
    "set_from_syntax = {'a', 'b', 'c'}\n",
    "print(set_from_syntax, type(set_from_syntax))\n",
    "\n",
    "print('\\nSet from generator')\n",
    "set_from_generator = set(g())\n",
    "print(set_from_generator, type(set_from_generator))\n",
    "\n",
    "print('\\nSet comprehensions')\n",
    "set_comprehensions = {x for x in 'abc'}\n",
    "print(set_comprehensions, type(set_comprehensions))\n",
    "set_from_comprehension_and_generator = set(x for x in 'abc')\n",
    "print(set_from_comprehension_and_generator, type(set_from_comprehension_and_generator))"
   ],
   "cell_type": "code",
   "metadata": {},
   "execution_count": 1,
   "outputs": [
    {
     "output_type": "stream",
     "name": "stdout",
     "text": [
      "Empty set\nset() <class 'set'>\n\nSet from list\n{'a', 'c', 'b'} <class 'set'>\n\nSet by simplified syntax\n{'a', 'c', 'b'} <class 'set'>\n\nSet from generator\n{'a', 'c', 'b'} <class 'set'>\n\nSet comprehensions\n{'a', 'c', 'b'} <class 'set'>\n{'a', 'c', 'b'} <class 'set'>\n"
     ]
    }
   ]
  },
  {
   "source": [
    "## Adding elements\n",
    "\n",
    "For single elements adding the method `add`. For whole collection adding the method `update`. Adding existing elements not cause any error, they will be ignored. All adding methods mutate the object."
   ],
   "cell_type": "markdown",
   "metadata": {}
  },
  {
   "cell_type": "code",
   "execution_count": 2,
   "metadata": {},
   "outputs": [
    {
     "output_type": "stream",
     "name": "stdout",
     "text": [
      "Set before: set()\nSet after: {1}\nSet after adding array: {1, 2, 3, 4}\nSet after adding existing elements {1, 2, 3, 4}\n"
     ]
    }
   ],
   "source": [
    "some_set = set()\n",
    "print('Set before:', some_set)\n",
    "\n",
    "some_set.add(1)\n",
    "print('Set after:', some_set)\n",
    "\n",
    "some_set.update([2, 3, 4])\n",
    "print('Set after adding array:', some_set)\n",
    "\n",
    "some_set.update([1, 2, 3, 4])\n",
    "print('Set after adding existing elements', some_set)"
   ]
  },
  {
   "source": [
    "## Removing elements\n",
    "\n",
    "For removing single element there is a method remove and discard, accepting the elements which needs to be removed. If element is not existing in the set, an exception (the KeyError) is thrown.\n",
    "\n",
    "For removing multiple elements you can use the difference_update method or -= operator, which is described later.\n",
    "\n",
    "For removing all elements there is method clear.\n",
    "\n",
    "There is the pop method for set. Does not accepting any parameters. According to the documentation is random, but the randomness of that solution is based on order of elements inside the set.\n",
    "\n",
    "All remove methods are mutable."
   ],
   "cell_type": "markdown",
   "metadata": {}
  },
  {
   "cell_type": "code",
   "execution_count": 3,
   "metadata": {},
   "outputs": [
    {
     "output_type": "stream",
     "name": "stdout",
     "text": [
      "Before removing: {1, 2, 3, 4, 5}\nAfter removing: {1, 2, 4, 5}\nPop operation: 1\nAfter pop: {2, 4, 5}\nAfter clear: set()\n"
     ]
    }
   ],
   "source": [
    "some_set = set([1, 2, 3, 4, 5])\n",
    "print('Before removing:', some_set)\n",
    "some_set.remove(3)\n",
    "print('After removing:', some_set)\n",
    "\n",
    "print('Pop operation:', some_set.pop())\n",
    "print('After pop:', some_set)\n",
    "\n",
    "some_set.clear()\n",
    "\n",
    "print('After clear:', some_set)"
   ]
  },
  {
   "source": [
    "## Operations on sets\n",
    "\n",
    "In Pythons sets, each sets operation has two versions: immutable (which returns new set) and mutable (with *_update* suffix, and which does not return any value).\n",
    "\n",
    "The differences between the using method or operator:\n",
    "\n",
    "* Operator require other set for working\n",
    "* Methods can accept any iterable object\n",
    "\n",
    "### Sets difference\n",
    "\n",
    "All elements which are in the first set, but not in second.\n",
    "\n",
    "Methods: `difference`, `difference_update`.\n",
    "\n",
    "Operator: `-`."
   ],
   "cell_type": "markdown",
   "metadata": {}
  },
  {
   "source": [
    "a = set('abracadabra')\n",
    "b = set('alacazam')\n",
    "\n",
    "print('Letters in a but not in b:', a - b)\n",
    "print('Letters in a but not in b:', a.difference(b))\n",
    "print('Set a after above operations:', a)\n",
    "\n",
    "print('Result of difference_update:', a.difference_update(b))\n",
    "print('Set a after above difference_update:', a)"
   ],
   "cell_type": "code",
   "metadata": {},
   "execution_count": 4,
   "outputs": [
    {
     "output_type": "stream",
     "name": "stdout",
     "text": [
      "Letters in a but not in b: {'r', 'b', 'd'}\nLetters in a but not in b: {'r', 'b', 'd'}\nSet a after above operations: {'a', 'r', 'b', 'd', 'c'}\nResult of difference_update: None\nSet a after above difference_update: {'r', 'b', 'd'}\n"
     ]
    }
   ]
  },
  {
   "source": [
    "### Sets union\n",
    "\n",
    "The result set contain all elements from first set and all from the second set.\n",
    "\n",
    "Methods: `union`, `update`.\n",
    "\n",
    "Operator: `|`."
   ],
   "cell_type": "markdown",
   "metadata": {}
  },
  {
   "cell_type": "code",
   "execution_count": 5,
   "metadata": {},
   "outputs": [
    {
     "output_type": "stream",
     "name": "stdout",
     "text": [
      "Letters both from a and b: {'a', 'r', 'b', 'z', 'l', 'm', 'd', 'c'}\nLetters both from a and b: {'a', 'r', 'b', 'z', 'l', 'm', 'd', 'c'}\nSet a after above operations: {'a', 'r', 'b', 'd', 'c'}\nResult of update: None\nSet a after above update: {'a', 'r', 'b', 'z', 'l', 'm', 'd', 'c'}\n"
     ]
    }
   ],
   "source": [
    "a = set('abracadabra')\n",
    "b = set('alacazam')\n",
    "\n",
    "print('Letters both from a and b:', a | b)\n",
    "print('Letters both from a and b:', a.union(b))\n",
    "print('Set a after above operations:', a)\n",
    "\n",
    "print('Result of update:', a.update(b))\n",
    "print('Set a after above update:', a)"
   ]
  },
  {
   "source": [
    "### Sets intersections\n",
    "\n",
    "The result set contains all elements which are in first set and in the second set.\n",
    "\n",
    "Methods: `intersection`, `intersection_update`.\n",
    "\n",
    "Operator: `|`."
   ],
   "cell_type": "markdown",
   "metadata": {}
  },
  {
   "cell_type": "code",
   "execution_count": 6,
   "metadata": {},
   "outputs": [
    {
     "output_type": "stream",
     "name": "stdout",
     "text": [
      "Letters which are both in a and b: {'a', 'c'}\nLetters which are both in a and b: {'a', 'c'}\nSet a after above operations: {'a', 'r', 'b', 'd', 'c'}\nResult of intersection_update: None\nSet a after above intersection_update: {'a', 'c'}\n"
     ]
    }
   ],
   "source": [
    "a = set('abracadabra')\n",
    "b = set('alacazam')\n",
    "\n",
    "print('Letters which are both in a and b:', a & b)\n",
    "print('Letters which are both in a and b:', a.intersection(b))\n",
    "print('Set a after above operations:', a)\n",
    "\n",
    "print('Result of intersection_update:', a.intersection_update(b))\n",
    "print('Set a after above intersection_update:', a)"
   ]
  },
  {
   "source": [
    "### Sets symmetric difference\n",
    "\n",
    "All elements which are only in the first set or only in the second set.\n",
    "\n",
    "Methods: `symmetric_difference`, `symmetric_difference_update`.\n",
    "\n",
    "Operator: `^`."
   ],
   "cell_type": "markdown",
   "metadata": {}
  },
  {
   "cell_type": "code",
   "execution_count": 7,
   "metadata": {},
   "outputs": [
    {
     "output_type": "stream",
     "name": "stdout",
     "text": [
      "Letters which are only in the a or in the b: {'l', 'm', 'd', 'r', 'b', 'z'}\nLetters which are only in the a or in the b: {'l', 'm', 'd', 'r', 'b', 'z'}\nSet a after above operations: {'a', 'r', 'b', 'd', 'c'}\nResult of symmetric_difference_update: None\nSet a after above symmetric_difference_update: {'r', 'b', 'z', 'l', 'm', 'd'}\n"
     ]
    }
   ],
   "source": [
    "a = set('abracadabra')\n",
    "b = set('alacazam')\n",
    "\n",
    "print('Letters which are only in the a or in the b:', a ^ b)\n",
    "print('Letters which are only in the a or in the b:', a.symmetric_difference(b))\n",
    "print('Set a after above operations:', a)\n",
    "\n",
    "print('Result of symmetric_difference_update:', a.symmetric_difference_update(b))\n",
    "print('Set a after above symmetric_difference_update:', a)"
   ]
  },
  {
   "source": [
    "## Sets comparison\n",
    "\n",
    "Methods for checking if there are similarities or differences among sets. Returns boolean value.\n",
    "\n",
    "The notation: **first set**`.`**method**`(`**second set**`)`"
   ],
   "cell_type": "markdown",
   "metadata": {}
  },
  {
   "cell_type": "code",
   "execution_count": 8,
   "metadata": {},
   "outputs": [],
   "source": [
    "orginal_set = set('abcdef')\n",
    "subset_of_original = set('cde')\n",
    "set_share_with_original = set('defghi')\n",
    "set_out_of_original = set('yvz')\n",
    "larger_containg_original_set = set('abcdefghi')"
   ]
  },
  {
   "source": [
    "### Is element in the set\n",
    "\n",
    "Syntax support: `in`."
   ],
   "cell_type": "markdown",
   "metadata": {}
  },
  {
   "cell_type": "code",
   "execution_count": 9,
   "metadata": {},
   "outputs": [
    {
     "output_type": "stream",
     "name": "stdout",
     "text": [
      "Is \"a\" in {a, b, c, d, e, f}: True\nIs \"a\" not in {a, b, c, d, e, f}: False\nIs \"z\" in {a, b, c, d, e, f}: False\n"
     ]
    }
   ],
   "source": [
    "print('Is \"a\" in {a, b, c, d, e, f}:', 'a' in orginal_set)\n",
    "print('Is \"a\" not in {a, b, c, d, e, f}:', 'a' not in orginal_set)\n",
    "print('Is \"z\" in {a, b, c, d, e, f}:', 'z' in orginal_set)"
   ]
  },
  {
   "source": [
    "### Is set an subset\n",
    "\n",
    "If wish check if first set is subset of second, use the method name: `issubset`.\n",
    "\n",
    "The method checking the same thing, but in opposite direction: `issuperset`."
   ],
   "cell_type": "markdown",
   "metadata": {}
  },
  {
   "cell_type": "code",
   "execution_count": 10,
   "metadata": {},
   "outputs": [
    {
     "output_type": "stream",
     "name": "stdout",
     "text": [
      "Is {c, d, e} subset of {a, b, c, d, e, f}: True\nIs {d, e, f, g, h, i} subset of {a, b, c, d, e, f}: False\nIs {y, v, z} subset of {a, b, c, d, e, f}: False\nIs {a, b, c, d, e, g, h, i} subset of {a, b, c, d, e, f}: False\n"
     ]
    }
   ],
   "source": [
    "print('Is {c, d, e} subset of {a, b, c, d, e, f}:', subset_of_original.issubset(orginal_set))\n",
    "print('Is {d, e, f, g, h, i} subset of {a, b, c, d, e, f}:', set_share_with_original.issubset(orginal_set))\n",
    "print('Is {y, v, z} subset of {a, b, c, d, e, f}:', set_out_of_original.issubset(orginal_set))\n",
    "print('Is {a, b, c, d, e, g, h, i} subset of {a, b, c, d, e, f}:', larger_containg_original_set.issubset(orginal_set))"
   ]
  },
  {
   "source": [
    "print('Is {c, d, e} issuperset of {a, b, c, d, e, f}:', subset_of_original.issuperset(orginal_set))\n",
    "print('Is {d, e, f, g, h, i} issuperset of {a, b, c, d, e, f}:', set_share_with_original.issuperset(orginal_set))\n",
    "print('Is {y, v, z} issuperset of {a, b, c, d, e, f}:', set_out_of_original.issuperset(orginal_set))\n",
    "print('Is {a, b, c, d, e, g, h, i} issuperset of {a, b, c, d, e, f}:', larger_containg_original_set.issuperset(orginal_set))"
   ],
   "cell_type": "code",
   "metadata": {},
   "execution_count": 11,
   "outputs": [
    {
     "output_type": "stream",
     "name": "stdout",
     "text": [
      "Is {c, d, e} issuperset of {a, b, c, d, e, f}: False\nIs {d, e, f, g, h, i} issuperset of {a, b, c, d, e, f}: False\nIs {y, v, z} issuperset of {a, b, c, d, e, f}: False\nIs {a, b, c, d, e, g, h, i} issuperset of {a, b, c, d, e, f}: True\n"
     ]
    }
   ]
  },
  {
   "source": [
    "### Is set not shearing any elements with other\n",
    "\n",
    "Method name `isdisjoint`."
   ],
   "cell_type": "markdown",
   "metadata": {}
  },
  {
   "cell_type": "code",
   "execution_count": 12,
   "metadata": {},
   "outputs": [
    {
     "output_type": "stream",
     "name": "stdout",
     "text": [
      "Is {c, d, e} isdisjoint of {a, b, c, d, e, f}: False\nIs {d, e, f, g, h, i} isdisjoint of {a, b, c, d, e, f}: False\nIs {y, v, z} isdisjoint of {a, b, c, d, e, f}: True\nIs {a, b, c, d, e, g, h, i} isdisjoint of {a, b, c, d, e, f}: False\n"
     ]
    }
   ],
   "source": [
    "print('Is {c, d, e} isdisjoint of {a, b, c, d, e, f}:', subset_of_original.isdisjoint(orginal_set))\n",
    "print('Is {d, e, f, g, h, i} isdisjoint of {a, b, c, d, e, f}:', set_share_with_original.isdisjoint(orginal_set))\n",
    "print('Is {y, v, z} isdisjoint of {a, b, c, d, e, f}:', set_out_of_original.isdisjoint(orginal_set))\n",
    "print('Is {a, b, c, d, e, g, h, i} isdisjoint of {a, b, c, d, e, f}:', larger_containg_original_set.isdisjoint(orginal_set))"
   ]
  },
  {
   "source": [
    "## Links\n",
    "\n",
    "* [Python 3 Data Structures, Sets](https://docs.python.org/3/tutorial/datastructures.html#sets)\n",
    "* [Real Python](https://realpython.com/python-sets/)\n"
   ],
   "cell_type": "markdown",
   "metadata": {}
  }
 ]
}