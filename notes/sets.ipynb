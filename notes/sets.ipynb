{
 "metadata": {
  "language_info": {
   "codemirror_mode": {
    "name": "ipython",
    "version": 3
   },
   "file_extension": ".py",
   "mimetype": "text/x-python",
   "name": "python",
   "nbconvert_exporter": "python",
   "pygments_lexer": "ipython3",
   "version": "3.8.5"
  },
  "orig_nbformat": 2,
  "kernelspec": {
   "name": "python385jvsc74a57bd031f2aee4e71d21fbe5cf8b01ff0e069b9275f58929596ceb00d14d90e3e16cd6",
   "display_name": "Python 3.8.5 64-bit"
  },
  "metadata": {
   "interpreter": {
    "hash": "31f2aee4e71d21fbe5cf8b01ff0e069b9275f58929596ceb00d14d90e3e16cd6"
   }
  }
 },
 "nbformat": 4,
 "nbformat_minor": 2,
 "cells": [
  {
   "source": [
    "# Sets\n",
    "\n",
    "A Set is an unordered collection data type that is iterable, mutable and has no duplicate elements. Python’s set class represents the mathematical notion of a set.\n",
    "\n",
    "**Advantages**:\n",
    " \n",
    "* Sets are fast for checking if an element is in the set\n",
    "\n",
    "**Disadvantages**:\n",
    "\n",
    "* They don't keep order of elements\n",
    "\n",
    "## Creating\n",
    "\n",
    "The ways how we can create `set` class object."
   ],
   "cell_type": "markdown",
   "metadata": {}
  },
  {
   "source": [
    "def g(): yield from 'abc'\n",
    "\n",
    "print('Empty set')\n",
    "empty_set = set()\n",
    "print(empty_set, type(empty_set))\n",
    "\n",
    "print('\\nSet from list')\n",
    "set_from_iteration = set(['a', 'b', 'c'])\n",
    "print(set_from_iteration, type(set_from_iteration))\n",
    "\n",
    "print('\\nSet by simplified syntax')\n",
    "set_from_syntax = {'a', 'b', 'c'}\n",
    "print(set_from_syntax, type(set_from_syntax))\n",
    "\n",
    "print('\\nSet from generator')\n",
    "set_from_generator = set(g())\n",
    "print(set_from_generator, type(set_from_generator))\n",
    "\n",
    "print('\\nSet comprehensions')\n",
    "set_comprehensions = {x for x in 'abc'}\n",
    "print(set_comprehensions, type(set_comprehensions))\n",
    "set_from_comprehension_and_generator = set(x for x in 'abc')\n",
    "print(set_from_comprehension_and_generator, type(set_from_comprehension_and_generator))"
   ],
   "cell_type": "code",
   "metadata": {},
   "execution_count": 32,
   "outputs": [
    {
     "output_type": "stream",
     "name": "stdout",
     "text": [
      "Empty set\nset() <class 'set'>\n\nSet from list\n{'c', 'a', 'b'} <class 'set'>\n\nSet by simplified syntax\n{'c', 'a', 'b'} <class 'set'>\n\nSet from generator\n{'c', 'a', 'b'} <class 'set'>\n\nSet comprehensions\n{'c', 'a', 'b'} <class 'set'>\n{'c', 'a', 'b'} <class 'set'>\n"
     ]
    }
   ]
  },
  {
   "source": [
    "## Adding elements\n",
    "\n",
    "For single elements adding the method `add`. For whole collection adding the method `update`. Adding existing elements not cause any error, they will be ignored. All adding methods mutate the object."
   ],
   "cell_type": "markdown",
   "metadata": {}
  },
  {
   "cell_type": "code",
   "execution_count": 33,
   "metadata": {},
   "outputs": [
    {
     "output_type": "stream",
     "name": "stdout",
     "text": [
      "Set before: set()\nSet after: {1}\nSet after adding array: {1, 2, 3, 4}\nSet after adding existing elements {1, 2, 3, 4}\n"
     ]
    }
   ],
   "source": [
    "some_set = set()\n",
    "print('Set before:', some_set)\n",
    "\n",
    "some_set.add(1)\n",
    "print('Set after:', some_set)\n",
    "\n",
    "some_set.update([2, 3, 4])\n",
    "print('Set after adding array:', some_set)\n",
    "\n",
    "some_set.update([1, 2, 3, 4])\n",
    "print('Set after adding existing elements', some_set)"
   ]
  },
  {
   "source": [
    "## Removing elements\n",
    "\n",
    "For removing single element there is a method `remove`, accepting the elements which needs to be removed. If element is not existing in the set, an exception (the `KeyError`) is thrown.\n",
    "\n",
    "For removing multiple elements you can use the `difference_update` method or `-=` operator, which is described later.\n",
    "\n",
    "For removing all elements there is method `clear`.\n",
    "\n",
    "There is the `pop` method for set. Does not accepting any parameteres. According to the documentation is random, but the randomnes of that solution is based on order of elements inside the set."
   ],
   "cell_type": "markdown",
   "metadata": {}
  },
  {
   "cell_type": "code",
   "execution_count": 34,
   "metadata": {},
   "outputs": [
    {
     "output_type": "stream",
     "name": "stdout",
     "text": [
      "Before removing: {1, 2, 3, 4, 5}\nAfter removing: {1, 2, 4, 5}\nPop operation: 1\nAfter pop: {2, 4, 5}\nAfter clear: set()\n"
     ]
    }
   ],
   "source": [
    "some_set = set([1, 2, 3, 4, 5])\n",
    "print('Before removing:', some_set)\n",
    "some_set.remove(3)\n",
    "print('After removing:', some_set)\n",
    "\n",
    "print('Pop operation:', some_set.pop())\n",
    "print('After pop:', some_set)\n",
    "\n",
    "some_set.clear()\n",
    "\n",
    "print('After clear:', some_set)"
   ]
  },
  {
   "cell_type": "code",
   "execution_count": 35,
   "metadata": {},
   "outputs": [
    {
     "output_type": "stream",
     "name": "stdout",
     "text": [
      "unique letters in a {'b', 'a', 'r', 'c', 'd'}\nletters in a but not in b {'d', 'r', 'b'}\nletters in a or b or both {'b', 'l', 'm', 'a', 'r', 'c', 'd', 'z'}\nletters in both a and b {'c', 'a'}\nletters in a or b but not both {'r', 'b', 'd', 'l', 'z', 'm'}\n"
     ]
    }
   ],
   "source": [
    "a = set('abracadabra')\n",
    "b = set('alacazam')\n",
    "\n",
    "print('unique letters in a', a)\n",
    "print('letters in a but not in b', a - b)\n",
    "print('letters in a or b or both', a | b)\n",
    "print('letters in both a and b', a & b)\n",
    "print('letters in a or b but not both', a ^ b)"
   ]
  },
  {
   "source": [
    "## Links\n",
    "\n",
    "* [Python 3 Data Structures, Sets](https://docs.python.org/3/tutorial/datastructures.html#sets)\n",
    "* [Real Python](https://realpython.com/python-sets/)\n"
   ],
   "cell_type": "markdown",
   "metadata": {}
  }
 ]
}