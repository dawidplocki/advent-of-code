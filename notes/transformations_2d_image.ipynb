{
 "metadata": {
  "language_info": {
   "codemirror_mode": {
    "name": "ipython",
    "version": 3
   },
   "file_extension": ".py",
   "mimetype": "text/x-python",
   "name": "python",
   "nbconvert_exporter": "python",
   "pygments_lexer": "ipython3",
   "version": "3.8.5"
  },
  "orig_nbformat": 2,
  "kernelspec": {
   "name": "python385jvsc74a57bd031f2aee4e71d21fbe5cf8b01ff0e069b9275f58929596ceb00d14d90e3e16cd6",
   "display_name": "Python 3.8.5 64-bit"
  },
  "metadata": {
   "interpreter": {
    "hash": "31f2aee4e71d21fbe5cf8b01ff0e069b9275f58929596ceb00d14d90e3e16cd6"
   }
  }
 },
 "nbformat": 4,
 "nbformat_minor": 2,
 "cells": [
  {
   "source": [
    "# Transformations of 2D image\n",
    "\n",
    "Assuming the image is represent by 2D array:\n",
    "\n",
    "Coordinate matrix:\n",
    "\n",
    "```txt\n",
    "(0, 0) (1, 0) (2, 0) (3, 0)\n",
    "(0, 1) (1, 1) (2, 1) (3, 1)\n",
    "(0, 2) (1, 2) (2, 2) (3, 2)\n",
    "(0, 3) (1, 3) (2, 3) (3, 3)\n",
    "(0, 4) (1, 4) (2, 4) (3, 4)\n",
    "```\n",
    "\n",
    "## Representation\n",
    "\n",
    "Possible representation that kind of table:\n",
    "* as 1D table\n",
    "* as table of tables\n",
    "* as **dictionary** with tuple as keys\n",
    "* as **set** of tuples (representing coordinates) if picture is \"bitmap\" (contain only two colours)\n",
    "\n",
    "In Python the two last options are worth considering."
   ],
   "cell_type": "markdown",
   "metadata": {}
  },
  {
   "source": [
    "def load_pixels(image: list) -> tuple:\n",
    "    for row, line in enumerate(image):\n",
    "        yield from ((column, row, c) for column, c in enumerate(line))\n",
    "\n",
    "def to_set_image(image: list) -> set:\n",
    "    return set((column, row) for column, row, c in load_pixels(image) if c == '#')\n",
    "\n",
    "def to_dict_image(image: list) -> dict:\n",
    "    return {(column, row): c for column, row, c in load_pixels(image)}\n",
    "\n",
    "def print_set_image(image: set):\n",
    "    max_column = max(column for column, _ in image)\n",
    "    max_row = max(row for _, row in image)\n",
    "\n",
    "    for row in range(0, max_row + 1):\n",
    "        for column in range(0, max_column + 1):\n",
    "            print('#' if (column, row) in image else ' ', end='')\n",
    "        print()\n",
    "\n",
    "def print_dict_image(image: dict):\n",
    "    max_column = max(column for column, _ in image.keys())\n",
    "    max_row = max(row for _, row in image.keys())\n",
    "\n",
    "    for row in range(0, max_row + 1):\n",
    "        for column in range(0, max_column + 1):\n",
    "            print(image[column, row], end='')\n",
    "        print()"
   ],
   "cell_type": "code",
   "metadata": {},
   "execution_count": 1,
   "outputs": []
  },
  {
   "source": [
    "## Turn 90 degrees\n",
    "\n",
    "### Right\n",
    "\n",
    "We want to achieve the following transformation of coordinates:\n",
    "\n",
    "```txt\n",
    "(0, 4) (0, 3) (0, 2) (0, 1) (0, 0)\n",
    "(1, 4) (1, 3) (1, 2) (1, 1) (1, 0)\n",
    "(2, 4) (2, 3) (2, 2) (2, 1) (2, 0)\n",
    "(3, 4) (3, 3) (3, 2) (3, 1) (3, 0)\n",
    "```\n",
    "\n",
    "So as we can see, it comes to:\n",
    "\n",
    "$$ (x_r, y_r) => (size_y - y - 1, x) $$\n",
    "\n",
    "### Left\n",
    "\n",
    "We want to achieve the following transformation of coordinates:\n",
    "\n",
    "```txt\n",
    "(3, 0) (3, 1) (3, 2) (3, 3) (3, 4)\n",
    "(2, 0) (2, 1) (2, 2) (2, 3) (2, 4)\n",
    "(1, 0) (1, 1) (1, 2) (1, 3) (1, 4)\n",
    "(0, 0) (0, 1) (0, 2) (0, 3) (0, 4)\n",
    "```\n",
    "\n",
    "It comes to:\n",
    "\n",
    "$$ (x_l, y_l) => (y, size_x - x - 1) $$"
   ],
   "cell_type": "markdown",
   "metadata": {}
  },
  {
   "cell_type": "code",
   "execution_count": 2,
   "metadata": {},
   "outputs": [],
   "source": [
    "def right_90_transform(x: int, y: int, size_x: int, size_y: int) -> tuple:\n",
    "    return (size_y - y - 1, x)\n",
    "\n",
    "def left_90_transform(x: int, y: int, size_x: int, size_y: int) -> tuple:\n",
    "    return (y, size_x - x - 1)"
   ]
  },
  {
   "source": [
    "## Flips\n",
    "\n",
    "### Vertical\n",
    "\n",
    "```txt\n",
    "(0, 4) (1, 4) (2, 4) (3, 4)\n",
    "(0, 3) (1, 3) (2, 3) (3, 3)\n",
    "(0, 2) (1, 2) (2, 2) (3, 2)\n",
    "(0, 1) (1, 1) (2, 1) (3, 1)\n",
    "(0, 0) (1, 0) (2, 0) (3, 0)\n",
    "```\n",
    "\n",
    "It comes to:\n",
    "\n",
    "$$ (x_h, y_h) => (x, size_y - y - 1) $$\n",
    "\n",
    "### Horizontal\n",
    "\n",
    "```txt\n",
    "(3, 0) (2, 0) (1, 0) (0, 0)\n",
    "(3, 1) (2, 1) (1, 1) (0, 1)\n",
    "(3, 2) (2, 2) (1, 2) (0, 2)\n",
    "(3, 3) (2, 3) (1, 3) (0, 3)\n",
    "(3, 4) (2, 4) (1, 4) (0, 4)\n",
    "```\n",
    "\n",
    "It comes to:\n",
    "\n",
    "$$ (x_v, y_v) => (size_x - x - 1, y) $$"
   ],
   "cell_type": "markdown",
   "metadata": {}
  },
  {
   "cell_type": "code",
   "execution_count": 3,
   "metadata": {},
   "outputs": [],
   "source": [
    "def flip_vertical(x: int, y: int, size_x: int, size_y: int) -> list:\n",
    "    return (x, size_y - y - 1)\n",
    "\n",
    "def flip_horizontal(x: int, y: int, size_x: int, size_y: int) -> list:\n",
    "    return (size_x - x - 1, y)"
   ]
  },
  {
   "cell_type": "code",
   "execution_count": 4,
   "metadata": {},
   "outputs": [
    {
     "output_type": "stream",
     "name": "stdout",
     "text": [
      "Original picture:\n\n# # \n  ##\n####\n\nRotate 90 right of original:\n\n# #\n#  \n###\n## \n\nRotate 90 left of original:\n\n ##\n###\n  #\n# #\n\nFlip vertical of original:\n\n####\n  ##\n# # \n\nFlip horizontal of original:\n\n # #\n##  \n####\n\n"
     ]
    }
   ],
   "source": [
    "arrow = to_set_image('''# # \n",
    "  ##\n",
    "####'''.splitlines())\n",
    "\n",
    "def transform_set_image(transform, picture: set, size_x: int, size_y: int) -> set:\n",
    "    return set(transform(x, y, size_x, size_y) for x, y in picture)\n",
    "\n",
    "print('Original picture:\\n')\n",
    "print_set_image(arrow)\n",
    "print()\n",
    "\n",
    "print('Rotate 90 right of original:\\n')\n",
    "print_set_image(transform_set_image(right_90_transform, arrow, 4, 3))\n",
    "print()\n",
    "\n",
    "print('Rotate 90 left of original:\\n')\n",
    "print_set_image(transform_set_image(left_90_transform, arrow, 4, 3))\n",
    "print()\n",
    "\n",
    "print('Flip vertical of original:\\n')\n",
    "print_set_image(transform_set_image(flip_vertical, arrow, 4, 3))\n",
    "print()\n",
    "\n",
    "print('Flip horizontal of original:\\n')\n",
    "print_set_image(transform_set_image(flip_horizontal, arrow, 4, 3))\n",
    "print()\n"
   ]
  },
  {
   "cell_type": "code",
   "execution_count": 5,
   "metadata": {},
   "outputs": [
    {
     "output_type": "stream",
     "name": "stdout",
     "text": [
      "Original picture:\n\nabcd\nefgh\nhijk\n\nRotate 90 right:\n\nhea\nifb\njgc\nkhd\n\nRotate 90 left:\n\ndhk\ncgj\nbfi\naeh\n\nFlip vertical of original:\n\nhijk\nefgh\nabcd\n\nFlip horizontal of original:\n\ndcba\nhgfe\nkjih\n\n"
     ]
    }
   ],
   "source": [
    "alphabet = to_dict_image('''abcd\n",
    "efgh\n",
    "hijk'''.splitlines())\n",
    "\n",
    "def transform_dict_image(transform, picture: set, size_x: int, size_y: int)  -> set:\n",
    "    return {transform(x, y, size_x, size_y):picture[x, y] for x, y in picture.keys()}\n",
    "\n",
    "print('Original picture:\\n')\n",
    "print_dict_image(alphabet)\n",
    "print()\n",
    "\n",
    "print('Rotate 90 right:\\n')\n",
    "print_dict_image(transform_dict_image(right_90_transform, alphabet, 4, 3))\n",
    "print()\n",
    "\n",
    "print('Rotate 90 left:\\n')\n",
    "print_dict_image(transform_dict_image(left_90_transform, alphabet, 4, 3))\n",
    "print()\n",
    "\n",
    "print('Flip vertical of original:\\n')\n",
    "print_dict_image(transform_dict_image(flip_vertical, alphabet, 4, 3))\n",
    "print()\n",
    "\n",
    "print('Flip horizontal of original:\\n')\n",
    "print_dict_image(transform_dict_image(flip_horizontal, alphabet, 4, 3))\n",
    "print()\n"
   ]
  },
  {
   "cell_type": "code",
   "execution_count": null,
   "metadata": {},
   "outputs": [],
   "source": []
  }
 ]
}