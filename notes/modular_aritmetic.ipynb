{
 "metadata": {
  "language_info": {
   "codemirror_mode": {
    "name": "ipython",
    "version": 3
   },
   "file_extension": ".py",
   "mimetype": "text/x-python",
   "name": "python",
   "nbconvert_exporter": "python",
   "pygments_lexer": "ipython3",
   "version": 3
  },
  "orig_nbformat": 2
 },
 "nbformat": 4,
 "nbformat_minor": 2,
 "cells": [
  {
   "source": [
    "# Modular Arithmetic\n",
    "\n",
    "## Notation\n",
    "\n",
    "### Modulo\n",
    "\n",
    "$$\n",
    "a \\bmod n = b\n",
    "$$\n",
    "\n",
    "Translate to: $ a = kn + b, b \\in \\langle 0, k) $\n",
    "\n",
    "### Congruence Modulo\n",
    "\n",
    "$$\n",
    "A \\equiv B \\pmod n\n",
    "$$\n",
    "\n",
    "Translate to: $ A \\bmod n = B \\bmod n $\n",
    "\n",
    "## Equivalents relations\n",
    "\n",
    "* Reflexive property: $ A \\equiv A \\pmod C $\n",
    "* Symmetric property: if $ A \\equiv B \\pmod C $ then $ B \\equiv A \\pmod C $\n",
    "* Transitive property: if $ A \\equiv B \\pmod C $ and $ B \\equiv D \\pmod C $ the $ A \\equiv D \\pmod C $\n",
    "* Modular addition: $ (A + B) \\pmod C \\equiv (A \\pmod C + B \\pmod C) \\pmod C $\n",
    "* Modular subtraction: $ (A - B) \\pmod C \\equiv (A \\pmod C - B \\pmod C) \\pmod C $\n",
    "* Modular multiplication: $ (A * B) \\pmod C \\equiv (A \\pmod C * B \\pmod C) \\pmod C $"
   ],
   "cell_type": "markdown",
   "metadata": {}
  }
 ]
}